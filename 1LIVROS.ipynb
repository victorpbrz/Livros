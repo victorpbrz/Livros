{
 "cells": [
  {
   "cell_type": "markdown",
   "metadata": {},
   "source": [
    "## Livros"
   ]
  },
  {
   "cell_type": "markdown",
   "metadata": {},
   "source": [
    "## $-\\ $ [Essays on atomic physics and human knowledge - N. Bohr](https://github.com/victorpbrz/Livros/blob/main/bohr%20essays%201958-1962%20.pdf)\n",
    "## $-\\ $ [Mathematical foundations of quantum theory - Dirac and Wheeler essays](https://github.com/victorpbrz/Livros/blob/main/dirac-wheeler.pdf)\n",
    "## $-\\ $ []()\n",
    "## $-\\ $ []()\n",
    "## $-\\ $ []()\n"
   ]
  },
  {
   "cell_type": "markdown",
   "metadata": {},
   "source": [
    "#"
   ]
  }
 ],
 "metadata": {
  "kernelspec": {
   "display_name": "Python 3 (ipykernel)",
   "language": "python",
   "name": "python3"
  },
  "language_info": {
   "codemirror_mode": {
    "name": "ipython",
    "version": 3
   },
   "file_extension": ".py",
   "mimetype": "text/x-python",
   "name": "python",
   "nbconvert_exporter": "python",
   "pygments_lexer": "ipython3",
   "version": "3.11.7"
  }
 },
 "nbformat": 4,
 "nbformat_minor": 4
}
